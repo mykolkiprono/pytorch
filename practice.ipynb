{
 "cells": [
  {
   "cell_type": "code",
   "execution_count": 1,
   "metadata": {},
   "outputs": [],
   "source": [
    "import numpy as np\n",
    "\n",
    "import torch\n",
    "from torch import nn\n",
    "from torchvision import datasets\n",
    "from torch.utils.data import DataLoader"
   ]
  },
  {
   "cell_type": "markdown",
   "metadata": {},
   "source": [
    "# creating tensors\n"
   ]
  },
  {
   "cell_type": "code",
   "execution_count": 2,
   "metadata": {},
   "outputs": [],
   "source": [
    "# 1. from direct data\n",
    "\n",
    "data = [[1,2],[3,4]]\n",
    "data_x = torch.tensor(data)"
   ]
  },
  {
   "cell_type": "code",
   "execution_count": 3,
   "metadata": {},
   "outputs": [],
   "source": [
    "# from numoy arrays\n",
    "\n",
    "np_array = np.array(data)\n",
    "x_data = torch.from_numpy(np_array)"
   ]
  },
  {
   "cell_type": "code",
   "execution_count": 5,
   "metadata": {},
   "outputs": [
    {
     "name": "stdout",
     "output_type": "stream",
     "text": [
      "ones tensor : \n",
      " tensor([[1, 1],\n",
      "        [1, 1]]) \n",
      "\n",
      "rand tensor : \n",
      " tensor([[0.3168, 0.7700],\n",
      "        [0.1294, 0.3461]])\n"
     ]
    }
   ],
   "source": [
    "# from another tensor\n",
    "\n",
    "x_ones = torch.ones_like(data_x) #retains properties of data_x\n",
    "print(f\"ones tensor : \\n {x_ones} \\n\")\n",
    "\n",
    "x_rand = torch.rand_like(data_x, dtype=torch.float) # overrrides data type\n",
    "print(f\"rand tensor : \\n {x_rand}\")"
   ]
  },
  {
   "cell_type": "markdown",
   "metadata": {},
   "source": [
    "## with random or constant values"
   ]
  },
  {
   "cell_type": "code",
   "execution_count": 6,
   "metadata": {},
   "outputs": [
    {
     "name": "stdout",
     "output_type": "stream",
     "text": [
      "rand tensor \n",
      " tensor([[0.3909, 0.3268, 0.8572],\n",
      "        [0.3474, 0.4375, 0.1078]]) \n",
      "\n",
      "ones tensor \n",
      " tensor([[1., 1., 1.],\n",
      "        [1., 1., 1.]]) \n",
      "\n",
      "zeros tensor \n",
      " tensor([[0., 0., 0.],\n",
      "        [0., 0., 0.]])\n"
     ]
    }
   ],
   "source": [
    "shape = (2,3,)\n",
    "rand_tensor = torch.rand(shape)\n",
    "ones_tensor = torch.ones(shape)\n",
    "zeros_tensor = torch.zeros(shape)\n",
    "\n",
    "print(f\"rand tensor \\n {rand_tensor} \\n\")\n",
    "print(f\"ones tensor \\n {ones_tensor} \\n\")\n",
    "print(f\"zeros tensor \\n {zeros_tensor}\")"
   ]
  },
  {
   "cell_type": "markdown",
   "metadata": {},
   "source": [
    "## attributes of  tensor\n",
    "* shape\n",
    "* dtype\n",
    "* device"
   ]
  },
  {
   "cell_type": "code",
   "execution_count": 7,
   "metadata": {},
   "outputs": [
    {
     "name": "stdout",
     "output_type": "stream",
     "text": [
      "shape torch.Size([3, 4])\n",
      "\n",
      "dtype torch.float32\n",
      "\n",
      "device cpu\n"
     ]
    }
   ],
   "source": [
    "tensor = torch.rand(3,4)\n",
    "\n",
    "print(f\"shape {tensor.shape}\\n\")\n",
    "print(f\"dtype {tensor.dtype}\\n\")\n",
    "print(f\"device {tensor.device}\")"
   ]
  },
  {
   "cell_type": "markdown",
   "metadata": {},
   "source": [
    "## operations on tensors\n",
    "*  arithmetic\n",
    "* linear algebra\n",
    "* martrix manipulation (transposing, indexing, slicing)\n"
   ]
  },
  {
   "cell_type": "code",
   "execution_count": 8,
   "metadata": {},
   "outputs": [
    {
     "name": "stdout",
     "output_type": "stream",
     "text": [
      "tensor \n",
      "tensor([[0.4740, 0.9584, 0.1184, 0.0952],\n",
      "        [0.3935, 0.2818, 0.5465, 0.0479],\n",
      "        [0.4739, 0.3570, 0.5758, 0.7113],\n",
      "        [0.8996, 0.4549, 0.4133, 0.2065]])\n",
      "first row\n",
      " tensor([0.4740, 0.9584, 0.1184, 0.0952])\n",
      "first column\n",
      " tensor([0.4740, 0.3935, 0.4739, 0.8996])\n",
      "last row\n",
      " tensor([0.0952, 0.0479, 0.7113, 0.2065])\n"
     ]
    }
   ],
   "source": [
    "# if torch.cuda.is_available:\n",
    "#     tensor = tensor.to(\"cuda\")\n",
    "    \n",
    "tensor = torch.rand(4,4)\n",
    "print(f\"tensor \\n{tensor}\")\n",
    "\n",
    "print(f\"first row\\n {tensor[0]}\")\n",
    "print(f\"first column\\n {tensor[:,0]}\")\n",
    "print(f\"last row\\n {tensor[...,-1]}\")"
   ]
  },
  {
   "cell_type": "markdown",
   "metadata": {},
   "source": [
    "### joining tensors"
   ]
  },
  {
   "cell_type": "code",
   "execution_count": 10,
   "metadata": {},
   "outputs": [
    {
     "name": "stdout",
     "output_type": "stream",
     "text": [
      "tensor([[0.4740, 0.9584, 0.1184, 0.0952, 0.4740, 0.9584, 0.1184, 0.0952, 0.4740,\n",
      "         0.9584, 0.1184, 0.0952],\n",
      "        [0.3935, 0.2818, 0.5465, 0.0479, 0.3935, 0.2818, 0.5465, 0.0479, 0.3935,\n",
      "         0.2818, 0.5465, 0.0479],\n",
      "        [0.4739, 0.3570, 0.5758, 0.7113, 0.4739, 0.3570, 0.5758, 0.7113, 0.4739,\n",
      "         0.3570, 0.5758, 0.7113],\n",
      "        [0.8996, 0.4549, 0.4133, 0.2065, 0.8996, 0.4549, 0.4133, 0.2065, 0.8996,\n",
      "         0.4549, 0.4133, 0.2065]])\n"
     ]
    }
   ],
   "source": [
    "t1 = torch.cat([tensor,tensor,tensor], dim=1)# dim = 1 : columnwise, 0 : rowise\n",
    "print(t1)"
   ]
  },
  {
   "cell_type": "markdown",
   "metadata": {},
   "source": [
    "### arithmetic operations"
   ]
  },
  {
   "cell_type": "code",
   "execution_count": 34,
   "metadata": {},
   "outputs": [
    {
     "name": "stdout",
     "output_type": "stream",
     "text": [
      "y1: tensor([[2.2597, 1.4412, 1.2105, 1.9873],\n",
      "        [1.4412, 1.0974, 0.8422, 1.3024],\n",
      "        [1.2105, 0.8422, 1.0430, 1.0537],\n",
      "        [1.9873, 1.3024, 1.0537, 1.8544]])\n",
      " y2 : tensor([[2.2597, 1.4412, 1.2105, 1.9873],\n",
      "        [1.4412, 1.0974, 0.8422, 1.3024],\n",
      "        [1.2105, 0.8422, 1.0430, 1.0537],\n",
      "        [1.9873, 1.3024, 1.0537, 1.8544]]) \n",
      " y3 : tensor([[2.2597, 1.4412, 1.2105, 1.9873],\n",
      "        [1.4412, 1.0974, 0.8422, 1.3024],\n",
      "        [1.2105, 0.8422, 1.0430, 1.0537],\n",
      "        [1.9873, 1.3024, 1.0537, 1.8544]])\n",
      " z1 tensor([[0.5652, 0.8324, 0.3226, 0.5396],\n",
      "        [0.0397, 0.4941, 0.0459, 0.5177],\n",
      "        [0.0748, 0.0126, 0.2622, 0.6934],\n",
      "        [0.6106, 0.6058, 0.0493, 0.5886]])\n",
      " z2 tensor([[0.5652, 0.8324, 0.3226, 0.5396],\n",
      "        [0.0397, 0.4941, 0.0459, 0.5177],\n",
      "        [0.0748, 0.0126, 0.2622, 0.6934],\n",
      "        [0.6106, 0.6058, 0.0493, 0.5886]]) \n",
      " z3: tensor([[0.5652, 0.8324, 0.3226, 0.5396],\n",
      "        [0.0397, 0.4941, 0.0459, 0.5177],\n",
      "        [0.0748, 0.0126, 0.2622, 0.6934],\n",
      "        [0.6106, 0.6058, 0.0493, 0.5886]])\n"
     ]
    }
   ],
   "source": [
    "y1 = tensor@tensor.T\n",
    "y2 = tensor.matmul(tensor.T)\n",
    "\n",
    "y3 = torch.rand_like(y1)\n",
    "torch.matmul(tensor,tensor.T, out=y3)\n",
    "\n",
    "# This computes the element-wise product. z1, z2, z3 will have the same value\n",
    "z1 = tensor*tensor\n",
    "z2 = tensor.mul(tensor)\n",
    "z3 = torch.rand_like(tensor)\n",
    "torch.mul(tensor,tensor, out=z3)\n",
    "\n",
    "print(f\"y1: {y1}\\n y2 : {y2} \\n y3 : {y3}\\n z1 {z1}\\n z2 {z2} \\n z3: {z3}\")"
   ]
  },
  {
   "cell_type": "markdown",
   "metadata": {},
   "source": [
    "#### single element tensor"
   ]
  },
  {
   "cell_type": "code",
   "execution_count": 38,
   "metadata": {},
   "outputs": [
    {
     "name": "stdout",
     "output_type": "stream",
     "text": [
      "agg tensor(9.0820)\n",
      "agg item 9.081981658935547\n",
      "agg item type <class 'float'>\n"
     ]
    }
   ],
   "source": [
    "agg = tensor.sum()\n",
    "agg_item = agg.item()\n",
    "\n",
    "print(\"agg\", agg)\n",
    "print(\"agg item\", agg_item)\n",
    "print(\"agg item type\",type(agg_item))"
   ]
  },
  {
   "cell_type": "markdown",
   "metadata": {},
   "source": [
    "#### inplace operations\n",
    "* operations that store the result into the operand are called in-place. They are denoted by a _ suffix. For example: x.copy_(y), x.t_(), will change x"
   ]
  },
  {
   "cell_type": "code",
   "execution_count": 42,
   "metadata": {},
   "outputs": [
    {
     "name": "stdout",
     "output_type": "stream",
     "text": [
      "tensor([[10.7518, 10.9124, 10.5679, 10.7345],\n",
      "        [10.1992, 10.7029, 10.2142, 10.7195],\n",
      "        [10.2734, 10.1123, 10.5120, 10.8327],\n",
      "        [10.7814, 10.7784, 10.2220, 10.7672]])\n",
      "tensor([[20.7518, 20.9124, 20.5679, 20.7345],\n",
      "        [20.1992, 20.7029, 20.2142, 20.7195],\n",
      "        [20.2734, 20.1123, 20.5120, 20.8327],\n",
      "        [20.7814, 20.7784, 20.2220, 20.7672]])\n"
     ]
    }
   ],
   "source": [
    "print(tensor)\n",
    "\n",
    "tensor.add_(10)\n",
    "print(tensor)"
   ]
  },
  {
   "cell_type": "markdown",
   "metadata": {},
   "source": [
    "#### bridge with numpy"
   ]
  },
  {
   "cell_type": "code",
   "execution_count": 44,
   "metadata": {},
   "outputs": [
    {
     "name": "stdout",
     "output_type": "stream",
     "text": [
      "t : tensor([1., 1., 1., 1., 1.])\n",
      "n : [1. 1. 1. 1. 1.]\n"
     ]
    }
   ],
   "source": [
    "t = torch.ones(5)\n",
    "print(f\"t : {t}\")\n",
    "n = t.numpy()\n",
    "print(f\"n : {n}\")"
   ]
  },
  {
   "cell_type": "code",
   "execution_count": 45,
   "metadata": {},
   "outputs": [
    {
     "name": "stdout",
     "output_type": "stream",
     "text": [
      "t : tensor([11., 11., 11., 11., 11.])\n",
      "n : [11. 11. 11. 11. 11.]\n"
     ]
    }
   ],
   "source": [
    "# a change in tensor reflects in numpy array\n",
    "t.add_(10)\n",
    "print(f\"t : {t}\")\n",
    "print(f\"n : {n}\")"
   ]
  },
  {
   "cell_type": "code",
   "execution_count": 47,
   "metadata": {},
   "outputs": [],
   "source": [
    "# numpy  array to tensor\n",
    "n = np.ones(5)\n",
    "t = torch.from_numpy(n)"
   ]
  },
  {
   "cell_type": "code",
   "execution_count": 48,
   "metadata": {},
   "outputs": [
    {
     "name": "stdout",
     "output_type": "stream",
     "text": [
      "t: tensor([2., 2., 2., 2., 2.], dtype=torch.float64)\n",
      "n: [2. 2. 2. 2. 2.]\n"
     ]
    }
   ],
   "source": [
    "# change in numpy array reflects in tensor\n",
    "np.add(n, 1, out=n)\n",
    "print(f\"t: {t}\")\n",
    "print(f\"n: {n}\")"
   ]
  },
  {
   "cell_type": "code",
   "execution_count": null,
   "metadata": {},
   "outputs": [],
   "source": []
  }
 ],
 "metadata": {
  "kernelspec": {
   "display_name": "Python 3",
   "language": "python",
   "name": "python3"
  },
  "language_info": {
   "codemirror_mode": {
    "name": "ipython",
    "version": 3
   },
   "file_extension": ".py",
   "mimetype": "text/x-python",
   "name": "python",
   "nbconvert_exporter": "python",
   "pygments_lexer": "ipython3",
   "version": "3.7.6"
  }
 },
 "nbformat": 4,
 "nbformat_minor": 4
}
