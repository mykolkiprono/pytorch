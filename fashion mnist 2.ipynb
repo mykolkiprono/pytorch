{
 "cells": [
  {
   "cell_type": "code",
   "execution_count": 2,
   "metadata": {},
   "outputs": [],
   "source": [
    "import torch\n",
    "from torch import nn\n",
    "from torch.utils.data import DataLoader\n",
    "from torchvision import datasets\n",
    "from torchvision.transforms import ToTensor"
   ]
  },
  {
   "cell_type": "code",
   "execution_count": 3,
   "metadata": {},
   "outputs": [],
   "source": [
    "train_data = datasets.FashionMNIST(\n",
    "    root=\"data\",\n",
    "    train=True,\n",
    "    download=True,\n",
    "    transform=ToTensor()\n",
    ")\n",
    "\n",
    "test_data = datasets.FashionMNIST(\n",
    "    root=\"data\",\n",
    "    train=False,\n",
    "    download=True,\n",
    "    transform=ToTensor()\n",
    ")"
   ]
  },
  {
   "cell_type": "code",
   "execution_count": 4,
   "metadata": {},
   "outputs": [],
   "source": [
    "batch_size = 32\n",
    "train_dataloader = DataLoader(train_data, batch_size=batch_size)\n",
    "test_dataloader = DataLoader(train_data, batch_size=batch_size)"
   ]
  },
  {
   "cell_type": "code",
   "execution_count": 7,
   "metadata": {},
   "outputs": [
    {
     "name": "stdout",
     "output_type": "stream",
     "text": [
      "shape of X torch.Size([32, 1, 28, 28])\n",
      "shape of y torch.Size([32])\n"
     ]
    }
   ],
   "source": [
    "for X,y in train_dataloader:\n",
    "    print(\"shape of X {}\".format(X.shape))\n",
    "    print(\"shape of y {}\".format(y.shape))\n",
    "    break"
   ]
  },
  {
   "cell_type": "code",
   "execution_count": 8,
   "metadata": {},
   "outputs": [],
   "source": [
    "class NeuralNetwork(nn.Module):\n",
    "    def __init__(self):\n",
    "        super(NeuralNetwork, self).__init__()\n",
    "        self.flatten = nn.Flatten()\n",
    "        self.linear_relu_stack = nn.Sequential(\n",
    "            nn.Linear(28*28, 512),\n",
    "            nn.ReLU(),\n",
    "            nn.Linear(512, 512),\n",
    "            nn.ReLU(),\n",
    "            nn.Linear(512, 10)\n",
    "        )\n",
    "        \n",
    "    def forward(self, x):\n",
    "        x = self.flatten(x)\n",
    "        logits = self.linear_relu_stack(x)\n",
    "        return logits\n",
    "        "
   ]
  },
  {
   "cell_type": "code",
   "execution_count": 9,
   "metadata": {},
   "outputs": [
    {
     "name": "stdout",
     "output_type": "stream",
     "text": [
      "NeuralNetwork(\n",
      "  (flatten): Flatten(start_dim=1, end_dim=-1)\n",
      "  (linear_relu_stack): Sequential(\n",
      "    (0): Linear(in_features=784, out_features=512, bias=True)\n",
      "    (1): ReLU()\n",
      "    (2): Linear(in_features=512, out_features=512, bias=True)\n",
      "    (3): ReLU()\n",
      "    (4): Linear(in_features=512, out_features=10, bias=True)\n",
      "  )\n",
      ")\n"
     ]
    }
   ],
   "source": [
    "model = NeuralNetwork()\n",
    "print(model)"
   ]
  },
  {
   "cell_type": "code",
   "execution_count": 11,
   "metadata": {},
   "outputs": [],
   "source": [
    "loss_fn = nn.CrossEntropyLoss()\n",
    "optimizer = torch.optim.SGD(model.parameters(), lr=1e-3)"
   ]
  },
  {
   "cell_type": "code",
   "execution_count": 12,
   "metadata": {},
   "outputs": [],
   "source": [
    "def train(dataloader, model, loss_fn, optimizer):\n",
    "    size = len(train_dataloader.dataset)\n",
    "    model.train()\n",
    "    \n",
    "    for batch, (X,y) in enumerate(dataloader):\n",
    "        pred = model(X)\n",
    "        loss = loss_fn(pred, y)\n",
    "        \n",
    "        optimizer.zero_grad()\n",
    "        loss.backward()\n",
    "        optimizer.step()\n",
    "        \n",
    "        if batch % 100 == 0:\n",
    "            loss, current = loss.item(), batch*len(X)\n",
    "            print(f\"loss: {loss:>7f}  [{current:>5d}/{size:>5d}]\")"
   ]
  },
  {
   "cell_type": "code",
   "execution_count": 15,
   "metadata": {},
   "outputs": [],
   "source": [
    "def test(dataloader,model, loss_fn):\n",
    "    size = len(dataloader.dataset)\n",
    "    num_batch = len(dataloader)\n",
    "    \n",
    "    model.eval()\n",
    "    test_loss, correct = 0,0\n",
    "    \n",
    "    with torch.no_grad():\n",
    "        for X,y in dataloader:\n",
    "            pred = model(X)\n",
    "            test_loss+=loss_fn(pred, y).item()\n",
    "            correct+=(pred.argmax(1)==y).type(torch.float).sum().item()\n",
    "    test_loss/=num_batch\n",
    "    correct/=size\n",
    "    print(f\"Test Error: \\n Accuracy: {(100*correct):>0.1f}%, Avg loss: {test_loss:>8f} \\n\")\n",
    "    "
   ]
  },
  {
   "cell_type": "code",
   "execution_count": 16,
   "metadata": {},
   "outputs": [
    {
     "name": "stdout",
     "output_type": "stream",
     "text": [
      "Epoch 1\n",
      "-------------------------------\n",
      "loss: 1.867326  [    0/60000]\n",
      "loss: 1.890507  [ 3200/60000]\n",
      "loss: 1.812695  [ 6400/60000]\n",
      "loss: 1.772940  [ 9600/60000]\n",
      "loss: 1.696552  [12800/60000]\n",
      "loss: 1.735273  [16000/60000]\n",
      "loss: 1.583814  [19200/60000]\n",
      "loss: 1.571677  [22400/60000]\n",
      "loss: 1.554009  [25600/60000]\n",
      "loss: 1.520257  [28800/60000]\n",
      "loss: 1.398094  [32000/60000]\n",
      "loss: 1.326177  [35200/60000]\n",
      "loss: 1.532753  [38400/60000]\n",
      "loss: 1.396253  [41600/60000]\n",
      "loss: 1.311266  [44800/60000]\n",
      "loss: 1.265163  [48000/60000]\n",
      "loss: 1.371362  [51200/60000]\n",
      "loss: 1.369852  [54400/60000]\n",
      "loss: 1.186683  [57600/60000]\n",
      "Test Error: \n",
      " Accuracy: 63.6%, Avg loss: 1.235992 \n",
      "\n",
      "Epoch 2\n",
      "-------------------------------\n",
      "loss: 1.239602  [    0/60000]\n",
      "loss: 1.239381  [ 3200/60000]\n",
      "loss: 1.233616  [ 6400/60000]\n",
      "loss: 1.288335  [ 9600/60000]\n",
      "loss: 1.130945  [12800/60000]\n",
      "loss: 1.284303  [16000/60000]\n",
      "loss: 1.008207  [19200/60000]\n",
      "loss: 1.039525  [22400/60000]\n",
      "loss: 1.086057  [25600/60000]\n",
      "loss: 1.166634  [28800/60000]\n",
      "loss: 1.003709  [32000/60000]\n",
      "loss: 0.940923  [35200/60000]\n",
      "loss: 1.237126  [38400/60000]\n",
      "loss: 1.065133  [41600/60000]\n",
      "loss: 1.006381  [44800/60000]\n",
      "loss: 0.901324  [48000/60000]\n",
      "loss: 1.032258  [51200/60000]\n",
      "loss: 1.143784  [54400/60000]\n",
      "loss: 0.907596  [57600/60000]\n",
      "Test Error: \n",
      " Accuracy: 67.0%, Avg loss: 0.969385 \n",
      "\n",
      "Epoch 3\n",
      "-------------------------------\n",
      "loss: 0.943091  [    0/60000]\n",
      "loss: 0.985784  [ 3200/60000]\n",
      "loss: 0.984847  [ 6400/60000]\n",
      "loss: 1.114922  [ 9600/60000]\n",
      "loss: 0.884309  [12800/60000]\n",
      "loss: 1.084331  [16000/60000]\n",
      "loss: 0.773564  [19200/60000]\n",
      "loss: 0.803296  [22400/60000]\n",
      "loss: 0.887211  [25600/60000]\n",
      "loss: 1.056993  [28800/60000]\n",
      "loss: 0.823733  [32000/60000]\n",
      "loss: 0.764548  [35200/60000]\n",
      "loss: 1.132046  [38400/60000]\n",
      "loss: 0.944590  [41600/60000]\n",
      "loss: 0.891188  [44800/60000]\n",
      "loss: 0.742998  [48000/60000]\n",
      "loss: 0.877244  [51200/60000]\n",
      "loss: 1.038740  [54400/60000]\n",
      "loss: 0.791620  [57600/60000]\n",
      "Test Error: \n",
      " Accuracy: 69.4%, Avg loss: 0.845553 \n",
      "\n",
      "Epoch 4\n",
      "-------------------------------\n",
      "loss: 0.793158  [    0/60000]\n",
      "loss: 0.885845  [ 3200/60000]\n",
      "loss: 0.856161  [ 6400/60000]\n",
      "loss: 1.003140  [ 9600/60000]\n",
      "loss: 0.762347  [12800/60000]\n",
      "loss: 0.984374  [16000/60000]\n",
      "loss: 0.655831  [19200/60000]\n",
      "loss: 0.673484  [22400/60000]\n",
      "loss: 0.784450  [25600/60000]\n",
      "loss: 1.005003  [28800/60000]\n",
      "loss: 0.730839  [32000/60000]\n",
      "loss: 0.672821  [35200/60000]\n",
      "loss: 1.069112  [38400/60000]\n",
      "loss: 0.892459  [41600/60000]\n",
      "loss: 0.842179  [44800/60000]\n",
      "loss: 0.660317  [48000/60000]\n",
      "loss: 0.789163  [51200/60000]\n",
      "loss: 0.970146  [54400/60000]\n",
      "loss: 0.734882  [57600/60000]\n",
      "Test Error: \n",
      " Accuracy: 71.7%, Avg loss: 0.774037 \n",
      "\n",
      "Epoch 5\n",
      "-------------------------------\n",
      "loss: 0.703373  [    0/60000]\n",
      "loss: 0.839546  [ 3200/60000]\n",
      "loss: 0.767461  [ 6400/60000]\n",
      "loss: 0.911363  [ 9600/60000]\n",
      "loss: 0.688990  [12800/60000]\n",
      "loss: 0.928181  [16000/60000]\n",
      "loss: 0.590154  [19200/60000]\n",
      "loss: 0.589969  [22400/60000]\n",
      "loss: 0.717714  [25600/60000]\n",
      "loss: 0.966795  [28800/60000]\n",
      "loss: 0.681652  [32000/60000]\n",
      "loss: 0.617600  [35200/60000]\n",
      "loss: 1.014044  [38400/60000]\n",
      "loss: 0.865550  [41600/60000]\n",
      "loss: 0.814306  [44800/60000]\n",
      "loss: 0.609726  [48000/60000]\n",
      "loss: 0.729021  [51200/60000]\n",
      "loss: 0.916360  [54400/60000]\n",
      "loss: 0.701666  [57600/60000]\n",
      "Test Error: \n",
      " Accuracy: 74.2%, Avg loss: 0.724715 \n",
      "\n",
      "Done!\n"
     ]
    }
   ],
   "source": [
    "epoch = 5\n",
    "\n",
    "for t in range(epoch):\n",
    "    print(f\"Epoch {t+1}\\n-------------------------------\")\n",
    "    train(train_dataloader, model, loss_fn, optimizer)\n",
    "    test(test_dataloader, model, loss_fn)\n",
    "    \n",
    "print(\"Done!\")"
   ]
  },
  {
   "cell_type": "code",
   "execution_count": 17,
   "metadata": {},
   "outputs": [
    {
     "name": "stdout",
     "output_type": "stream",
     "text": [
      "Saved PyTorch Model State to model.pth\n"
     ]
    }
   ],
   "source": [
    "torch.save(model.state_dict(), \"model.pth\")\n",
    "print(\"Saved PyTorch Model State to model.pth\")"
   ]
  },
  {
   "cell_type": "code",
   "execution_count": 18,
   "metadata": {},
   "outputs": [
    {
     "data": {
      "text/plain": [
       "<All keys matched successfully>"
      ]
     },
     "execution_count": 18,
     "metadata": {},
     "output_type": "execute_result"
    }
   ],
   "source": [
    "model = NeuralNetwork()\n",
    "model.load_state_dict(torch.load(\"model.pth\"))"
   ]
  },
  {
   "cell_type": "code",
   "execution_count": 19,
   "metadata": {},
   "outputs": [
    {
     "name": "stdout",
     "output_type": "stream",
     "text": [
      "Predicted: \"Ankle boot\", Actual: \"Ankle boot\"\n"
     ]
    }
   ],
   "source": [
    "classes = [\n",
    "    \"T-shirt/top\",\n",
    "    \"Trouser\",\n",
    "    \"Pullover\",\n",
    "    \"Dress\",\n",
    "    \"Coat\",\n",
    "    \"Sandal\",\n",
    "    \"Shirt\",\n",
    "    \"Sneaker\",\n",
    "    \"Bag\",\n",
    "    \"Ankle boot\",\n",
    "]\n",
    "\n",
    "model.eval()\n",
    "x, y = test_data[0][0], test_data[0][1]\n",
    "with torch.no_grad():\n",
    "    pred = model(x)\n",
    "    predicted, actual = classes[pred[0].argmax(0)], classes[y]\n",
    "    print(f'Predicted: \"{predicted}\", Actual: \"{actual}\"')"
   ]
  },
  {
   "cell_type": "code",
   "execution_count": null,
   "metadata": {},
   "outputs": [],
   "source": []
  }
 ],
 "metadata": {
  "kernelspec": {
   "display_name": "Python 3",
   "language": "python",
   "name": "python3"
  },
  "language_info": {
   "codemirror_mode": {
    "name": "ipython",
    "version": 3
   },
   "file_extension": ".py",
   "mimetype": "text/x-python",
   "name": "python",
   "nbconvert_exporter": "python",
   "pygments_lexer": "ipython3",
   "version": "3.7.6"
  }
 },
 "nbformat": 4,
 "nbformat_minor": 4
}
